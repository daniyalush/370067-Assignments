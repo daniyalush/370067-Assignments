{
 "cells": [
  {
   "cell_type": "markdown",
   "id": "6898cb6a",
   "metadata": {},
   "source": [
    "### Name: Syed Daniyal Ali Shah\n",
    "### Roll No: 370067"
   ]
  },
  {
   "cell_type": "markdown",
   "id": "e97b70bc-85df-40a1-9537-f71e034ac634",
   "metadata": {},
   "source": [
    "\n",
    "# 1. Write a Python program that:\n",
    "\n",
    "Accepts a comma-separated string of numbers from the user (e.g., \"1,2,3,4,5\").\n",
    "Typecasts the input string into a list of integers.\n",
    "Print the resulting list of integers.\n",
    "Example Input:\n",
    "\"10,20,30,40,50\" or \n",
    "[10, 20, 30, 40, 50]\n",
    "\n"
   ]
  },
  {
   "cell_type": "code",
   "execution_count": null,
   "id": "ddead697-b887-460f-94c6-c17be97675aa",
   "metadata": {},
   "outputs": [
    {
     "name": "stdout",
     "output_type": "stream",
     "text": [
      "List: [12, 23]\n"
     ]
    }
   ],
   "source": [
    "numbers = input(\"Enter multiple numbers separated by commas: \")\n",
    "numbers_list = numbers.split(\",\")\n",
    "numbers = [int(i) for i in numbers_list]\n",
    "\n",
    "print(f\"List: {numbers}\")\n"
   ]
  },
  {
   "cell_type": "markdown",
   "id": "6bd54ab7-060f-4207-a5ce-abc140e3c796",
   "metadata": {},
   "source": [
    "# 2. Write a Python program that asks user to enter 5 different names (e.g., \"Alice, Bob, Charlie, David, Eve\").\n",
    "Stores these names in a list and prints the list.\n",
    "Then, ask the user for a number and print the name at that index of the list. \n",
    "\n",
    "Example Input\n",
    "\n",
    "\"Alice, Bob, Charlie, David, Eve\"\n",
    "Enter an index: 2\n",
    "\n",
    "\n",
    "Example Output:\n",
    "\n",
    "\n",
    "List: ['Alice', 'Bob', 'Charlie', 'David', 'Eve']\n",
    "Name at index 2: Charlie\n"
   ]
  },
  {
   "cell_type": "code",
   "execution_count": 57,
   "id": "a59a34a4-72cf-4b40-9131-702388e668ed",
   "metadata": {},
   "outputs": [
    {
     "name": "stdout",
     "output_type": "stream",
     "text": [
      "List: ['David', 'John', 'Tom', 'Sally', 'Reggie']\n",
      "The name at index 2: Tom\n"
     ]
    }
   ],
   "source": [
    "names_list = []\n",
    "\n",
    "for n in range(1,6):\n",
    "    name = input(f\"Enter {n} name: \")\n",
    "    names_list.append(name)\n",
    "\n",
    "print(f\"List: {names_list}\")\n",
    "\n",
    "name_index = input(\"Enter an index number:\")\n",
    "name_at_index = names_list[int(name_index)]\n",
    "\n",
    "print(f\"The name at index {name_index}: {name_at_index}\")"
   ]
  },
  {
   "cell_type": "markdown",
   "id": "b74c2e00-ed01-446f-af03-5e32ec46944f",
   "metadata": {},
   "source": [
    "# 3. Write a Python program that takes an integer input from the user and checks whether the number is:\n",
    "\n",
    "* Positive\n",
    "\n",
    "* Negative\n",
    "\n",
    "* Zero"
   ]
  },
  {
   "cell_type": "code",
   "execution_count": 60,
   "id": "e6ee9b4c-0966-4bc9-8b3c-7a6d8c66e4e4",
   "metadata": {},
   "outputs": [
    {
     "name": "stdout",
     "output_type": "stream",
     "text": [
      "You entered -21\n",
      "It is a negative number.\n"
     ]
    }
   ],
   "source": [
    "number_check = int(input(\"Enter a number to check:\"))\n",
    "\n",
    "print(f\"You entered {number_check}\")\n",
    "\n",
    "if (number_check)>0:\n",
    "    print(\"It is a positive number.\")\n",
    "elif (number_check)<0:\n",
    "    print(\"It is a negative number.\")\n",
    "else:\n",
    "    print(\"It is zero\")"
   ]
  },
  {
   "cell_type": "markdown",
   "id": "a36e94fe-20e0-4227-abd8-cbd7ca532f51",
   "metadata": {},
   "source": [
    "# 4. Create a Python program that takes a user's age as input and categorizes them into one of the following age groups:\n",
    "\n",
    "* Child (0-12)\n",
    "* Teen (13-19)\n",
    "* Adult (20-64)\n",
    "* Senior (65+)\n",
    "\n",
    "Print the corresponding category based on the user's age."
   ]
  },
  {
   "cell_type": "code",
   "execution_count": 67,
   "id": "0a58d305-0dc2-4363-a420-1cacdd4c2c0b",
   "metadata": {},
   "outputs": [
    {
     "name": "stdout",
     "output_type": "stream",
     "text": [
      "Age: 14\n",
      "Category: Teenager\n"
     ]
    }
   ],
   "source": [
    "user_age = input(\"Enter age: \")\n",
    "\n",
    "print(f\"Age: {user_age}\")\n",
    "\n",
    "if int(user_age)>=65:\n",
    "    print(\"Category: Senior\")\n",
    "elif int(user_age)>=20 and int(user_age)<=64:\n",
    "    print(\"Category: Adult\")\n",
    "elif int(user_age)>=13 and int(user_age)<=19:\n",
    "    print(\"Category: Teenager\")\n",
    "else:\n",
    "    print(\"Category: Child\")"
   ]
  },
  {
   "cell_type": "markdown",
   "id": "13fb3a6c-ba33-41ef-8b6f-85cd454cc909",
   "metadata": {},
   "source": [
    "# 5. Write a program that asks the user for their name and age, and prints out a message such as: \"Hello [name], you are [age] years old."
   ]
  },
  {
   "cell_type": "code",
   "execution_count": null,
   "id": "2ba6dab2-6064-450d-b44d-21a67f6767f6",
   "metadata": {},
   "outputs": [
    {
     "name": "stdout",
     "output_type": "stream",
     "text": [
      "Hello Daniyal, you are 26 years old\n"
     ]
    }
   ],
   "source": [
    "person_name = input(\"Enter your name:\")\n",
    "person_age = input(\"Enter your age: \")\n",
    "text = f\"Hello {person_name}, you are {person_age} years old\"\n",
    "\n",
    "print(text)"
   ]
  },
  {
   "cell_type": "markdown",
   "id": "753e9996-d137-4577-b8d8-39c697ae51e5",
   "metadata": {},
   "source": [
    "# 6. Write a Python program that demonstrates the use of arithmetic operators (+, -, *, /, %, //, **). Provide examples of each operator, such as:\n",
    "\n",
    "* Addition of two numbers.\n",
    "* Division of two numbers (including floor division).\n",
    "* Exponentiation (power).\n",
    "* Modulus to find the remainder"
   ]
  },
  {
   "cell_type": "code",
   "execution_count": 94,
   "id": "2d6f9ba8-b098-4598-b62d-8057ac6b1342",
   "metadata": {},
   "outputs": [
    {
     "name": "stdout",
     "output_type": "stream",
     "text": [
      "First Number: 12    Second Number: 2\n",
      "\n",
      "Addition            12 + 2 = 14\n",
      "Subtraction         12 - 2 = 10\n",
      "Multiplication      12 * 2 = 24\n",
      "Division            12 / 2 = 6.0\n",
      "Remainder           12 % 2 = 0\n",
      "Floor Division      12 // 2 = 6\n",
      "Exponentiation      12 ** 2 = 144\n",
      "\n"
     ]
    }
   ],
   "source": [
    "number1 = input(\"Enter the first number: \")\n",
    "number2 = input(\"Enter the second number: \")\n",
    "\n",
    "print(f'''First Number: {number1}    Second Number: {number2}''')\n",
    "print(f'''\n",
    "Addition            {number1} + {number2} = {int(number1)+int(number2)}\n",
    "Subtraction         {number1} - {number2} = {int(number1)-int(number2)}\n",
    "Multiplication      {number1} * {number2} = {int(number1)*int(number2)}\n",
    "Division            {number1} / {number2} = {int(number1)/int(number2)}\n",
    "Remainder           {number1} % {number2} = {int(number1)%int(number2)}\n",
    "Floor Division      {number1} // {number2} = {int(number1)//int(number2)}\n",
    "Exponentiation      {number1} ** {number2} = {int(number1)**int(number2)}\n",
    "''')"
   ]
  },
  {
   "cell_type": "markdown",
   "id": "1870c517-0e30-4bb0-a46a-8cbabc77e0c3",
   "metadata": {},
   "source": [
    "# 8. Create a Program to Reverse a String"
   ]
  },
  {
   "cell_type": "code",
   "execution_count": null,
   "id": "9c3e955a-d1c6-433e-a478-37cd1d9d0f6f",
   "metadata": {},
   "outputs": [
    {
     "name": "stdout",
     "output_type": "stream",
     "text": [
      "The original string is: hello\n",
      "The reverse of this string is: olleh\n"
     ]
    }
   ],
   "source": [
    "string = input(\"Enter a string: \")\n",
    "reverse_string = string[::-1]\n",
    "\n",
    "print(f\"The original string is: {string}\")\n",
    "print(f\"The reverse of this string is: {reverse_string}\")"
   ]
  },
  {
   "cell_type": "markdown",
   "id": "6f5a5402-580d-4ccc-98cf-96864dd0ee52",
   "metadata": {},
   "source": [
    "# 9. Write a program that takes a list of numbers as input from the user and sorts the list in ascending order. Print the sorted list after the operation."
   ]
  },
  {
   "cell_type": "code",
   "execution_count": null,
   "id": "535fb5e3-2f46-4167-ae9e-7a4aaa379f97",
   "metadata": {},
   "outputs": [
    {
     "name": "stdout",
     "output_type": "stream",
     "text": [
      "The sorted numbers are: [1, 9, 12, 15, 23, 32, 41, 65, 87, 656]\n"
     ]
    }
   ],
   "source": [
    "numbers = input(\"Enter multiple numbers separated by commas: \")\n",
    "numbers_list = numbers.split(\",\")\n",
    "numbers = [int(i) for i in numbers_list]\n",
    "sorted_numbers = sorted(numbers)\n",
    "\n",
    "print(f\"The sorted numbers are: {sorted_numbers}\")"
   ]
  },
  {
   "cell_type": "markdown",
   "id": "68ec045f-fe59-4e3b-92d5-ae4bcc6ec39c",
   "metadata": {},
   "source": [
    "# 10. Write a program that asks the user for the price of a product and calculates the discount. If the price is greater than 100, give a 20% discount; otherwise, give a 10% discount. Print the discounted price using if-else statements."
   ]
  },
  {
   "cell_type": "code",
   "execution_count": 54,
   "id": "e19c45c9-0200-4d9a-8c02-a0406e50a5f7",
   "metadata": {},
   "outputs": [
    {
     "name": "stdout",
     "output_type": "stream",
     "text": [
      "Original Price: Rs 76\n",
      "Discounted Price: Rs 68.4\n"
     ]
    }
   ],
   "source": [
    "product_price = int(input(\"Enter the price of the product:\"))\n",
    "\n",
    "if product_price > 100:\n",
    "    discount = (20/100)*product_price\n",
    "else:\n",
    "    discount = (10/100)*product_price\n",
    "\n",
    "print(f\"Original Price: Rs {product_price}\")\n",
    "\n",
    "discount = round(discount,1)\n",
    "print(f\"Discounted Price: Rs {product_price-discount}\")"
   ]
  },
  {
   "cell_type": "markdown",
   "id": "25226917-1c9a-4d49-bb5a-edd4cae014ad",
   "metadata": {},
   "source": [
    "# 11. Write a Python program that takes a number (1-7) as input from the user, and prints the corresponding day of the week:\n",
    "\n",
    "* 1: Monday\n",
    "* 2: Tuesday\n",
    "* 3: Wednesday\n",
    "* 4: Thursday\n",
    "* 5: Friday\n",
    "* 6: Saturday\n",
    "* 7: Sunday"
   ]
  },
  {
   "cell_type": "code",
   "execution_count": 44,
   "id": "b1062227-64b2-41c5-8db0-1b7aaf0269b8",
   "metadata": {},
   "outputs": [
    {
     "name": "stdout",
     "output_type": "stream",
     "text": [
      "You Selected: 5\n",
      "Friday\n"
     ]
    }
   ],
   "source": [
    "day_number = int(input(\"Enter a number to print the corresponding day of the week (1 - 7)\"))\n",
    "days = {1: \"Monday\", 2: \"Tuesday\", 3: \"Wednesday\", 4: \"Thursday\", 5: \"Friday\", 6: \"Saturday\", 7: \"Sunday\"}\n",
    "\n",
    "print(f\"You Selected: {day_number}\")\n",
    "print(days[day_number])\n"
   ]
  },
  {
   "cell_type": "markdown",
   "id": "81c12b61-6330-49ae-bf1d-bbead6dc1729",
   "metadata": {},
   "source": [
    "# 12. Write a program that asks the user for the weight of a package and calculates the shipping charges based on the following conditions:\n",
    "\n",
    "\n",
    "* If the weight is less than 1kg, the shipping cost is $5.\n",
    "  \n",
    "* If the weight is between 1kg and 5kg, the shipping cost is $10.\n",
    "\n",
    "  \n",
    "* If the weight is between 5kg and 10kg, the shipping cost is $15.\n",
    "\n",
    "  \n",
    "* If the weight is greater than 10kg, the shipping cost is $20."
   ]
  },
  {
   "cell_type": "code",
   "execution_count": 33,
   "id": "69207c42-7e00-4a9d-806c-6167759e75a6",
   "metadata": {},
   "outputs": [
    {
     "name": "stdout",
     "output_type": "stream",
     "text": [
      "Package Weight: 7kg\n",
      "Shipping Cost: $15\n"
     ]
    }
   ],
   "source": [
    "package_weight = int(input(\"Input weight of the package: \"))\n",
    "\n",
    "print(f\"Package Weight: {package_weight}kg\")\n",
    "\n",
    "if package_weight > 10:\n",
    "    print(\"Shipping Cost: $20\")\n",
    "elif package_weight >= 5 and package_weight <= 10:\n",
    "    print(\"Shipping Cost: $15\")\n",
    "elif package_weight >= 1 and package_weight < 5:\n",
    "    print(\"Shipping Cost: $10\")\n",
    "else:\n",
    "    print(\"Shipping Cost: $5\")"
   ]
  },
  {
   "cell_type": "markdown",
   "id": "f611a172-86d9-4fc8-9032-865be4866ec5",
   "metadata": {},
   "source": [
    "# 13. Write a Python program that asks the user for a single character and checks:\n",
    "\n",
    "* If the character is either a vowel (a, e, i, o, u) or a consonant (any alphabet letter other than a vowel).\n",
    "* Print \"Vowel\" if it is a vowel. \n",
    "* Print \"Invalid character\" if it is not neither."
   ]
  },
  {
   "cell_type": "code",
   "execution_count": null,
   "id": "85e9e038-4a65-4943-b992-9f5c4e9db3c0",
   "metadata": {},
   "outputs": [
    {
     "name": "stdout",
     "output_type": "stream",
     "text": [
      "You typed the character: v\n",
      "Consonant\n"
     ]
    }
   ],
   "source": [
    "character = input(\"Input a single character (in lower case):\")\n",
    "vowel = [\"a\",\"e\",\"i\",\"o\",\"u\"]\n",
    "\n",
    "if ord(character)>=97 and ord(character)<=122:\n",
    "    print(f\"You typed the character: {character}\")\n",
    "    if character in vowel:\n",
    "        print(\"Vowel\")\n",
    "    else:\n",
    "        print(\"Consonant\")\n",
    "else:\n",
    "    print(\"Invalid character\")"
   ]
  },
  {
   "cell_type": "markdown",
   "id": "e96d0352-d6ce-4930-b1c0-0db377f67800",
   "metadata": {},
   "source": [
    "# 14. Write a Python program that asks the student’s grade. The program should check:\n",
    "\n",
    "* If the grade is greater than or equal to 90 and less than or equal to 100, print \"Top 5 Student\".\n",
    "* If the grade is greater than or equal to 80 and less than 90, print \"Top 10 Student\".\n",
    "* Otherwise, print \"Not in Top 10\"."
   ]
  },
  {
   "cell_type": "code",
   "execution_count": null,
   "id": "338da3ba-b6dc-48e4-96a6-a4b56bbe07a9",
   "metadata": {},
   "outputs": [
    {
     "name": "stdout",
     "output_type": "stream",
     "text": [
      "Grade: 86.67\n",
      "Top 10 Student\n"
     ]
    }
   ],
   "source": [
    "computer_marks = int(input(\"Enter marks gained in Computer Science (out of 100)\"))\n",
    "chemistry_marks = int(input(\"Enter marks gained in Chemistry (out of 100)\"))\n",
    "physics_marks = int(input(\"Enter marks gained in Physics (out of 100)\"))\n",
    "\n",
    "marks = computer_marks + chemistry_marks + physics_marks\n",
    "total_marks = 300\n",
    "grade = (marks/total_marks)*100\n",
    "\n",
    "print(f\"Grade: {round(grade,2)}\")\n",
    "\n",
    "if grade >= 90 and grade <= 100:\n",
    "    print(\"Top 5 Student\")\n",
    "elif grade >= 80 and grade < 90:\n",
    "    print(\"Top 10 Student\")\n",
    "else:\n",
    "    print(\"Not in Top 10\")"
   ]
  },
  {
   "cell_type": "markdown",
   "id": "b935421a-02a1-4aaa-96bf-06aa1fd4ef2e",
   "metadata": {},
   "source": [
    "# 15. Write a Python program that checks if a student passed based on the following conditions:\n",
    "\n",
    "* If the marks are greater than or equal to 50, check\n",
    "  * if the attendance is 75% or more:\n",
    "  \n",
    "  * If attendance is 75% or more, print \"Passed\".\n",
    "\n",
    "  * If attendance is less than 75%, print \"Failed due to low attendance\".\n",
    "* If the marks are less than 50, print \"Failed due to low marks\"."
   ]
  },
  {
   "cell_type": "code",
   "execution_count": null,
   "id": "f30bf6d5-6911-4343-a7b0-c3240cbe5b7c",
   "metadata": {},
   "outputs": [
    {
     "name": "stdout",
     "output_type": "stream",
     "text": [
      "Marks Percentage: 90.67\n",
      "Attendance: 48.0\n",
      "Failed due to low attendance\n"
     ]
    }
   ],
   "source": [
    "computer_marks = int(input(\"Enter marks gained in Computer Science (out of 100)\"))\n",
    "chemistry_marks = int(input(\"Enter marks gained in Chemistry (out of 100)\"))\n",
    "physics_marks = int(input(\"Enter marks gained in Physics (out of 100)\"))\n",
    "classes_attended = int(input(\"How many classes did you attend out of 25?\"))\n",
    "\n",
    "marks = computer_marks + chemistry_marks + physics_marks\n",
    "total_marks = 300\n",
    "marks_percentage = (marks/total_marks)*100\n",
    "total_classes = 25\n",
    "attendance = (classes_attended/total_classes)*100\n",
    "\n",
    "print(f\"Marks Percentage: {round(marks_percentage,2)}\")\n",
    "print(f\"Attendance: {round(attendance,2)}\")\n",
    "\n",
    "if marks_percentage >= 50:\n",
    "    if attendance >= 75:\n",
    "        print(\"Passed\")\n",
    "    else:\n",
    "        print(\"Failed due to low attendance\")\n",
    "else:\n",
    "    print(\"Failed due to low marks\")"
   ]
  },
  {
   "cell_type": "markdown",
   "id": "7a98211b-92fb-447f-a877-0a657a30a1cc",
   "metadata": {},
   "source": [
    "# 16. Write a Python program that checks if a person is eligible for a loan:\n",
    "\n",
    "* If the person’s credit score is above 700, check if their income is above $50,000:\n",
    "    * If true, print \"Loan Approved\".\n",
    "    * If false, print \"Loan Denied due to low income\".\n",
    "* If the credit score is below 700, print \"Loan Denied due to low credit score"
   ]
  },
  {
   "cell_type": "code",
   "execution_count": null,
   "id": "41851db1-51fb-4ccf-8963-fa13caab4abf",
   "metadata": {},
   "outputs": [
    {
     "name": "stdout",
     "output_type": "stream",
     "text": [
      "Credit Score: 800\n",
      "Income: 65000\n",
      "Loan Approved\n"
     ]
    }
   ],
   "source": [
    "credit_score = int(input(\"Input credit score:\"))\n",
    "income = int(input(\"Input income:\"))\n",
    "\n",
    "print(f\"Credit Score: {credit_score}\")\n",
    "print(f\"Income: {income}\")\n",
    "\n",
    "if credit_score>700:\n",
    "    if income>50000:\n",
    "        print(\"Loan Approved\")\n",
    "    else:\n",
    "        print(\"Loan denied due to low income\")\n",
    "else:\n",
    "    print(\"Loan denied due to low credit score\")"
   ]
  }
 ],
 "metadata": {
  "kernelspec": {
   "display_name": "Python 3",
   "language": "python",
   "name": "python3"
  },
  "language_info": {
   "codemirror_mode": {
    "name": "ipython",
    "version": 3
   },
   "file_extension": ".py",
   "mimetype": "text/x-python",
   "name": "python",
   "nbconvert_exporter": "python",
   "pygments_lexer": "ipython3",
   "version": "3.13.2"
  }
 },
 "nbformat": 4,
 "nbformat_minor": 5
}
